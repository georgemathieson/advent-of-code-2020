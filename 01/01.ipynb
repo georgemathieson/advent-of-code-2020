{
 "cells": [
  {
   "cell_type": "code",
   "execution_count": 7,
   "metadata": {},
   "outputs": [],
   "source": [
    "# Import the puzzle input.\n",
    "with open('input.txt') as puzzleInput:\n",
    "    data = [int(value) for value in puzzleInput]"
   ]
  },
  {
   "cell_type": "code",
   "execution_count": 8,
   "metadata": {},
   "outputs": [
    {
     "name": "stdout",
     "output_type": "stream",
     "text": [
      "399\n",
      "1621\n"
     ]
    }
   ],
   "source": [
    "# Find the pair that add up to 2020.\n",
    "import itertools\n",
    "\n",
    "for a, b in itertools.combinations(data, 2):\n",
    "    if a+b == 2020:\n",
    "        entry1 = a\n",
    "        entry2 = b\n",
    "\n",
    "print(entry1)\n",
    "print(entry2)"
   ]
  },
  {
   "cell_type": "code",
   "execution_count": 9,
   "metadata": {},
   "outputs": [
    {
     "name": "stdout",
     "output_type": "stream",
     "text": [
      "646779\n"
     ]
    }
   ],
   "source": [
    "# Multiply the pair to get the answer.\n",
    "print(entry1 * entry2)"
   ]
  },
  {
   "cell_type": "code",
   "execution_count": 10,
   "metadata": {},
   "outputs": [
    {
     "name": "stdout",
     "output_type": "stream",
     "text": [
      "246191688\n"
     ]
    }
   ],
   "source": [
    "# Part Two.\n",
    "for a, b, c in itertools.combinations(data, 3):\n",
    "    if a+b+c == 2020:\n",
    "        print(a*b*c)"
   ]
  }
 ],
 "metadata": {
  "kernelspec": {
   "display_name": "Python 3.9.1 64-bit",
   "language": "python",
   "name": "python39164bitc739b85def6c478abd2f93288e0b426b"
  },
  "language_info": {
   "codemirror_mode": {
    "name": "ipython",
    "version": 3
   },
   "file_extension": ".py",
   "mimetype": "text/x-python",
   "name": "python",
   "nbconvert_exporter": "python",
   "pygments_lexer": "ipython3",
   "version": "3.9.1"
  },
  "orig_nbformat": 2
 },
 "nbformat": 4,
 "nbformat_minor": 2
}