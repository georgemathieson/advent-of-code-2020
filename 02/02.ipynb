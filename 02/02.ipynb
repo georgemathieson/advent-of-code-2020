{
 "cells": [
  {
   "cell_type": "code",
   "execution_count": 45,
   "metadata": {},
   "outputs": [],
   "source": [
    "# Import the puzzle input.\n",
    "with open('input.txt') as puzzleInput:\n",
    "    rows = [value for value in puzzleInput]"
   ]
  },
  {
   "cell_type": "code",
   "execution_count": 46,
   "metadata": {},
   "outputs": [
    {
     "name": "stdout",
     "output_type": "stream",
     "text": [
      "569\n"
     ]
    }
   ],
   "source": [
    "validCount = 0\n",
    "\n",
    "for item in rows:\n",
    "    min = (int)(item.split('-')[0])\n",
    "    max = (int)(item.split('-')[1].split(' ')[0])\n",
    "    char = item.split(':')[0].split(' ')[1]\n",
    "    pwd = item.split(' ')[2]\n",
    "\n",
    "    count = pwd.count(char)\n",
    "\n",
    "    if (count >= min) & (count <= max):\n",
    "        validCount += 1\n",
    "\n",
    "print(validCount)\n",
    "    "
   ]
  },
  {
   "cell_type": "code",
   "execution_count": 48,
   "metadata": {},
   "outputs": [
    {
     "name": "stdout",
     "output_type": "stream",
     "text": [
      "346\n"
     ]
    }
   ],
   "source": [
    "# Part Two.\n",
    "validCount = 0\n",
    "\n",
    "for item in rows:\n",
    "    index_a = (int)(item.split('-')[0])\n",
    "    index_b = (int)(item.split('-')[1].split(' ')[0])\n",
    "    char = item.split(':')[0].split(' ')[1]\n",
    "    pwd = item.split(' ')[2]\n",
    "\n",
    "    if (pwd[index_a - 1] == char) ^ (pwd[index_b - 1] == char):\n",
    "        validCount += 1\n",
    "\n",
    "print(validCount)"
   ]
  }
 ],
 "metadata": {
  "kernelspec": {
   "display_name": "Python 3.9.1 64-bit",
   "language": "python",
   "name": "python39164bitc739b85def6c478abd2f93288e0b426b"
  },
  "language_info": {
   "codemirror_mode": {
    "name": "ipython",
    "version": 3
   },
   "file_extension": ".py",
   "mimetype": "text/x-python",
   "name": "python",
   "nbconvert_exporter": "python",
   "pygments_lexer": "ipython3",
   "version": "3.9.1"
  },
  "orig_nbformat": 2
 },
 "nbformat": 4,
 "nbformat_minor": 2
}