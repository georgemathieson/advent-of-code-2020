{
 "cells": [
  {
   "cell_type": "code",
   "execution_count": 64,
   "metadata": {},
   "outputs": [],
   "source": [
    "# Import the puzzle input.\n",
    "with open('input.txt') as puzzleInput:\n",
    "    rows = [value for value in puzzleInput]"
   ]
  },
  {
   "cell_type": "code",
   "execution_count": 65,
   "metadata": {},
   "outputs": [],
   "source": [
    "def get_values(row):\n",
    "    min = (int)(row.split('-')[0])\n",
    "    max = (int)(row.split('-')[1].split(' ')[0])\n",
    "    char = row.split(':')[0].split(' ')[1]\n",
    "    pwd = row.split(' ')[2]\n",
    "    return min, max, char, pwd"
   ]
  },
  {
   "cell_type": "code",
   "execution_count": 66,
   "metadata": {},
   "outputs": [],
   "source": [
    "def validate_password_1(min, max, char, pwd):\n",
    "    return (pwd.count(char) >= min) & (pwd.count(char) <= max)"
   ]
  },
  {
   "cell_type": "code",
   "execution_count": 67,
   "metadata": {},
   "outputs": [],
   "source": [
    "# (min, max, char, pwd)\n",
    "rowValues = [get_values(row) for row in rows]"
   ]
  },
  {
   "cell_type": "code",
   "execution_count": 68,
   "metadata": {},
   "outputs": [
    {
     "name": "stdout",
     "output_type": "stream",
     "text": [
      "569\n"
     ]
    }
   ],
   "source": [
    "# Part One.\n",
    "print(sum(validate_password_1(*values) for values in rowValues))"
   ]
  },
  {
   "cell_type": "code",
   "execution_count": 69,
   "metadata": {},
   "outputs": [],
   "source": [
    "def validate_password_2(min, max, char, pwd):\n",
    "    return (pwd[min - 1] == char) ^ (pwd[max - 1] == char)"
   ]
  },
  {
   "cell_type": "code",
   "execution_count": 70,
   "metadata": {},
   "outputs": [
    {
     "name": "stdout",
     "output_type": "stream",
     "text": [
      "346\n"
     ]
    }
   ],
   "source": [
    "# Part Two.\n",
    "print(sum(validate_password_2(*values) for values in rowValues))"
   ]
  }
 ],
 "metadata": {
  "kernelspec": {
   "display_name": "Python 3.9.1 64-bit",
   "language": "python",
   "name": "python39164bitc739b85def6c478abd2f93288e0b426b"
  },
  "language_info": {
   "codemirror_mode": {
    "name": "ipython",
    "version": 3
   },
   "file_extension": ".py",
   "mimetype": "text/x-python",
   "name": "python",
   "nbconvert_exporter": "python",
   "pygments_lexer": "ipython3",
   "version": "3.9.1"
  },
  "orig_nbformat": 2
 },
 "nbformat": 4,
 "nbformat_minor": 2
}